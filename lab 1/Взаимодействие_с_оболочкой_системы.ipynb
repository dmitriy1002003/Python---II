{
  "nbformat": 4,
  "nbformat_minor": 0,
  "metadata": {
    "colab": {
      "provenance": []
    },
    "kernelspec": {
      "name": "python3",
      "display_name": "Python 3"
    },
    "language_info": {
      "name": "python"
    }
  },
  "cells": [
    {
      "cell_type": "code",
      "execution_count": null,
      "metadata": {
        "colab": {
          "base_uri": "https://localhost:8080/"
        },
        "id": "UCKRIVviTgtP",
        "outputId": "59a48a1c-c347-4241-d909-a1bcc80e3272"
      },
      "outputs": [
        {
          "output_type": "stream",
          "name": "stdout",
          "text": [
            "sample_data\n",
            "/usr/local/bin/python\n"
          ]
        }
      ],
      "source": [
        "!ls\n",
        "!which python\n",
        "!mkdir new_folder\n",
        "!rmdir new_folder"
      ]
    }
  ]
}