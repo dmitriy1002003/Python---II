{
  "nbformat": 4,
  "nbformat_minor": 0,
  "metadata": {
    "colab": {
      "provenance": []
    },
    "kernelspec": {
      "name": "python3",
      "display_name": "Python 3"
    },
    "language_info": {
      "name": "python"
    }
  },
  "cells": [
    {
      "cell_type": "code",
      "execution_count": null,
      "metadata": {
        "colab": {
          "base_uri": "https://localhost:8080/"
        },
        "id": "4t2wCBTpBEiE",
        "outputId": "b266e973-5d33-4587-8d31-0921d439342d"
      },
      "outputs": [
        {
          "output_type": "stream",
          "name": "stdout",
          "text": [
            "Содержимое файла:\n",
            " Первая строка\n",
            "Вторая строка\n",
            "\n",
            "Файл существует: True\n",
            "Файл удален.\n"
          ]
        }
      ],
      "source": [
        "import os\n",
        "\n",
        "# Создание и запись в файл\n",
        "with open(\"example.txt\", \"w\") as f:\n",
        "  f.write(\"Первая строка\\n\")\n",
        "  f.write(\"Вторая строка\\n\")\n",
        "\n",
        "# Чтение файла\n",
        "with open(\"example.txt\", \"r\") as f:\n",
        "  content = f.read()\n",
        "  print(\"Содержимое файла:\\n\", content)\n",
        "\n",
        "# Проверка существования файла\n",
        "print(\"Файл существует:\", os.path.exists(\"example.txt\"))\n",
        "\n",
        "# Удаление файла\n",
        "os.remove(\"example.txt\")\n",
        "print(\"Файл удален.\")"
      ]
    }
  ]
}