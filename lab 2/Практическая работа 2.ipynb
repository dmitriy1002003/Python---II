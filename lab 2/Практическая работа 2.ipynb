{
 "cells": [
  {
   "cell_type": "markdown",
   "id": "7ce12d53-e55a-45b5-bb2f-6a12125c3690",
   "metadata": {},
   "source": [
    "# Лабораторная работа №2\n",
    "Вариант 6\n",
    "## Задание 1 практической работы\n",
    "Создайте массив NumPy размером 3×3, содержащий числа от 1 до 9. \n",
    "Умножьте все элементы массива на 2, а затем замените все элементы больше 10 на 0. \n",
    "Выведите итоговый массив."
   ]
  },
  {
   "cell_type": "code",
   "execution_count": 21,
   "id": "95a00661-eaea-43b6-aa82-58b68688f4b6",
   "metadata": {},
   "outputs": [
    {
     "name": "stdout",
     "output_type": "stream",
     "text": [
      "[[ 2  4  6]\n",
      " [ 8 10  0]\n",
      " [ 0  0  0]]\n"
     ]
    }
   ],
   "source": [
    "import numpy as np\n",
    "m = np.matrix('1 2 3; 4 5 6; 7 8 9')\n",
    "n = 2 * m\n",
    "n[n > 10]=0\n",
    "print(n)"
   ]
  },
  {
   "cell_type": "markdown",
   "id": "62582b02-a447-4dcd-873f-d9ade6415306",
   "metadata": {},
   "source": [
    "## Задание 2 практической работы\n",
    "Создайте массив NumPy из 20 случайных целых чисел от 1 до 100. \n",
    "Найдите и выведите все элементы, которые делятся на 5 без остатка. \n",
    "Затем замените их на -1 и выведите обновленный массив."
   ]
  },
  {
   "cell_type": "code",
   "execution_count": 43,
   "id": "e4ee5a10-ea64-4b87-ba05-7362b358faca",
   "metadata": {},
   "outputs": [
    {
     "name": "stdout",
     "output_type": "stream",
     "text": [
      "Числа, которые делятся на 5 без остатка: [ 15  75  75 100  30]\n",
      "Обновленный массив: [52 93 -1 72 61 21 83 87 -1 -1 88 -1 24  3 22 53  2 88 -1 38]\n"
     ]
    }
   ],
   "source": [
    "import numpy as np\n",
    " \n",
    "np.random.seed(42)  \n",
    "arr = np.random.randint(1, 101, 20)\n",
    "mask = arr % 5 == 0\n",
    "print (\"Числа, которые делятся на 5 без остатка:\", arr[mask])\n",
    "arr[mask] = -1\n",
    "\n",
    "print (\"Обновленный массив:\", arr)\n"
   ]
  },
  {
   "cell_type": "markdown",
   "id": "f77c95f2-7027-4011-bd58-862515e46523",
   "metadata": {},
   "source": [
    "## Задание 3 практической работы\n",
    "Создайте два массива NumPy размером 1×5, заполненные случайными числами от 0 до 50. \n",
    "Объедините эти массивы в один двумерный массив (по строкам).\n",
    "Разделите полученный массив на два массива, каждый из которых содержит 5 элементов.\n"
   ]
  },
  {
   "cell_type": "code",
   "execution_count": 45,
   "id": "d78c7411-b2f0-4b46-b33f-69cff62cdfe6",
   "metadata": {},
   "outputs": [
    {
     "name": "stdout",
     "output_type": "stream",
     "text": [
      "Первый массив: [38 28 14 42  7]\n",
      "Второй массив: [20 38 18 22 10]\n",
      "Объединенный массив:\n",
      " [[38 28 14 42  7]\n",
      " [20 38 18 22 10]]\n",
      "Разделенные массивы:\n",
      " [[38 28 14 42  7]] \n",
      " [[20 38 18 22 10]]\n"
     ]
    }
   ],
   "source": [
    "import numpy as np\n",
    "\n",
    "np.random.seed(42)\n",
    "arr1 = np.random.randint(0, 51, 5)\n",
    "arr2 = np.random.randint(0, 51, 5)\n",
    "\n",
    "merged_array = np.vstack((arr1, arr2))\n",
    "\n",
    "split_array1, split_array2 = np.vsplit(merged_array, 2)\n",
    "\n",
    "print(\"Первый массив:\", arr1)\n",
    "print(\"Второй массив:\", arr2)\n",
    "print(\"Объединенный массив:\\n\", merged_array)\n",
    "print(\"Разделенные массивы:\\n\", split_array1, \"\\n\", split_array2)\n"
   ]
  },
  {
   "cell_type": "markdown",
   "id": "28a7d94f-c3b7-4d72-8b06-00d0b58ce1e6",
   "metadata": {},
   "source": [
    "## Задание 4 практической работы\n",
    "Создайте массив из 50 чисел, равномерно распределенных от -10 до 10. \n",
    "Вычислите сумму всех элементов, сумму положительных элементов и сумму отрицательных элементов. \n",
    "Выведите результаты."
   ]
  },
  {
   "cell_type": "code",
   "execution_count": 47,
   "id": "5df27a1f-215f-4394-851b-45fbe237bbcd",
   "metadata": {},
   "outputs": [
    {
     "name": "stdout",
     "output_type": "stream",
     "text": [
      "Сгенерированный массив: [-10 -10 -10  -9  -9  -8  -8  -8  -7  -7  -6  -6  -6  -5  -5  -4  -4  -4\n",
      "  -3  -3  -2  -2  -2  -1  -1   0   0   1   1   1   2   2   3   3   3   4\n",
      "   4   5   5   5   6   6   7   7   7   8   8   9   9  10]\n",
      "Сумма всех элементов: -24\n",
      "Сумма положительных элементов: 116\n",
      "Сумма отрицательных элементов: -140\n"
     ]
    }
   ],
   "source": [
    "import numpy as np\n",
    "\n",
    "arr = np.linspace(-10, 10, 50, dtype=int)\n",
    "\n",
    "total_sum = np.sum(arr)\n",
    "positive_sum = np.sum(arr[arr > 0])\n",
    "negative_sum = np.sum(arr[arr < 0])\n",
    "\n",
    "print(\"Сгенерированный массив:\", arr)\n",
    "print(\"Сумма всех элементов:\", total_sum)\n",
    "print(\"Сумма положительных элементов:\", positive_sum)\n",
    "print(\"Сумма отрицательных элементов:\", negative_sum)"
   ]
  },
  {
   "cell_type": "markdown",
   "id": "34939dd7-0627-4958-9832-42b08cdf70e9",
   "metadata": {},
   "source": [
    "## Задание 5 практической работы\n",
    "Создайте: Единичную матрицу размером 4×4. \n",
    "Диагональную матрицу размером 4×4 с диагональными элементами [5, 10, 15,20] (не использовать циклы). \n",
    "Найдите сумму всех элементов каждой из этих матриц и сравните результаты.\n"
   ]
  },
  {
   "cell_type": "code",
   "execution_count": 49,
   "id": "b9b8fb2d-841c-4be0-86fb-07e9c81aaaa5",
   "metadata": {},
   "outputs": [
    {
     "name": "stdout",
     "output_type": "stream",
     "text": [
      "Единичная матрица:\n",
      " [[1. 0. 0. 0.]\n",
      " [0. 1. 0. 0.]\n",
      " [0. 0. 1. 0.]\n",
      " [0. 0. 0. 1.]]\n",
      "Диагональная матрица:\n",
      " [[ 5  0  0  0]\n",
      " [ 0 10  0  0]\n",
      " [ 0  0 15  0]\n",
      " [ 0  0  0 20]]\n",
      "Сумма элементов единичной матрицы: 4.0\n",
      "Сумма элементов диагональной матрицы: 50\n",
      "Сумма элементов диагональной матрицы больше.\n"
     ]
    }
   ],
   "source": [
    "import numpy as np\n",
    "\n",
    "m_idnt = np.identity(4)\n",
    "\n",
    "m_diag = np.diag([5, 10, 15, 20])\n",
    "\n",
    "sum_idnt = np.sum(m_idnt)\n",
    "sum_diag = np.sum(m_diag)\n",
    "\n",
    "print(\"Единичная матрица:\\n\", m_idnt)\n",
    "print(\"Диагональная матрица:\\n\", m_diag)\n",
    "print(\"Сумма элементов единичной матрицы:\", sum_idnt)\n",
    "print(\"Сумма элементов диагональной матрицы:\", sum_diag)\n",
    "\n",
    "if sum_idnt > sum_diag:\n",
    "    print(\"Сумма элементов единичной матрицы больше.\")\n",
    "elif sum_idnt < sum_diag:\n",
    "    print(\"Сумма элементов диагональной матрицы больше.\")\n",
    "else:\n",
    "    print(\"Суммы элементов матриц равны.\")\n"
   ]
  },
  {
   "cell_type": "markdown",
   "id": "209e640a-01a3-44cb-8ae0-13b2bd4ba120",
   "metadata": {},
   "source": [
    "## Задание 6 практической работы\n",
    "Создайте две квадратные матрицы NumPy размером 3×3, заполненные случайными целыми числами от 1 до 20. \n",
    "Вычислите и выведите: Их сумму, Их разность, Их поэлементное произведение."
   ]
  },
  {
   "cell_type": "code",
   "execution_count": 3,
   "id": "80b56c3f-0a4f-4fae-b704-abcc0c1022c4",
   "metadata": {},
   "outputs": [
    {
     "name": "stdout",
     "output_type": "stream",
     "text": [
      "Первая матрица:\n",
      " [[ 7 20 15]\n",
      " [11  8  7]\n",
      " [19 11 11]]\n",
      "Вторая матрица:\n",
      " [[ 4  8  3]\n",
      " [ 2 12  6]\n",
      " [ 2  1 12]]\n",
      "Сумма матриц:\n",
      " [[11 28 18]\n",
      " [13 20 13]\n",
      " [21 12 23]]\n",
      "Разность матриц:\n",
      " [[ 3 12 12]\n",
      " [ 9 -4  1]\n",
      " [17 10 -1]]\n",
      "Поэлементное произведение:\n",
      " [[ 28 160  45]\n",
      " [ 22  96  42]\n",
      " [ 38  11 132]]\n"
     ]
    }
   ],
   "source": [
    "import numpy as np\n",
    "\n",
    "np.random.seed(42)\n",
    "arr1 = np.random.randint(1, 21, (3, 3))\n",
    "arr2 = np.random.randint(1, 21, (3, 3))\n",
    "\n",
    "matrix_sum = arr1 + arr2\n",
    "matrix_diff = arr1 - arr2\n",
    "matrix_product = arr1 * arr2\n",
    "\n",
    "print(\"Первая матрица:\\n\", arr1)\n",
    "print(\"Вторая матрица:\\n\", arr2)\n",
    "print(\"Сумма матриц:\\n\", matrix_sum)\n",
    "print(\"Разность матриц:\\n\", matrix_diff)\n",
    "print(\"Поэлементное произведение:\\n\", matrix_product)\n"
   ]
  },
  {
   "cell_type": "markdown",
   "id": "ac2ad135-e114-4b5c-b9a4-7b8a54c7422f",
   "metadata": {},
   "source": [
    "## Задание 7 практической работы\n",
    "Создайте две матрицы NumPy: \n",
    "•\tПервую размером 2×3, заполненную случайными числами от 1 до 10.\n",
    "•\tВторую размером 3×2, заполненную случайными числами от 1 до 10.\n",
    "Выполните матричное умножение ( @ или np.dot ) и выведите результат.\n"
   ]
  },
  {
   "cell_type": "code",
   "execution_count": 5,
   "id": "ecd2f162-c4f2-451c-9a3f-517b32318587",
   "metadata": {},
   "outputs": [
    {
     "name": "stdout",
     "output_type": "stream",
     "text": [
      "Первая матрица (2×3):\n",
      " [[ 7  4  8]\n",
      " [ 5  7 10]]\n",
      "Вторая матрица (3×2):\n",
      " [[3 7]\n",
      " [8 5]\n",
      " [4 8]]\n",
      "Результат матричного умножения (2×2):\n",
      " [[ 85 133]\n",
      " [111 150]]\n"
     ]
    }
   ],
   "source": [
    "import numpy as np\n",
    "\n",
    "np.random.seed(42)\n",
    "arr1 = np.random.randint(1, 11, (2, 3))\n",
    "arr2 = np.random.randint(1, 11, (3, 2))\n",
    "\n",
    "matrix_product = arr1 @ arr2\n",
    "\n",
    "print(\"Первая матрица (2×3):\\n\", arr1)\n",
    "print(\"Вторая матрица (3×2):\\n\", arr2)\n",
    "print(\"Результат матричного умножения (2×2):\\n\", matrix_product)\n"
   ]
  },
  {
   "cell_type": "markdown",
   "id": "6503ec89-e6c3-49da-bd88-d3df5c00442c",
   "metadata": {},
   "source": [
    "## Задание 8 практической работы\n",
    "Создайте случайную квадратную матрицу 3×3. Найдите и выведите:\n",
    "•\tОпределитель этой матрицы\n",
    "•\tОбратную матрицу (если существует, иначе выведите сообщение, что матрица вырождена)\n",
    "Используйте функции np.linalg.det и np.linalg.inv.\n"
   ]
  },
  {
   "cell_type": "code",
   "execution_count": 7,
   "id": "12b9a7c2-3073-409b-b87b-078bc422f53f",
   "metadata": {},
   "outputs": [
    {
     "name": "stdout",
     "output_type": "stream",
     "text": [
      "Исходная матрица:\n",
      " [[ 7  4  8]\n",
      " [ 5  7 10]\n",
      " [ 3  7  8]]\n",
      "Определитель матрицы: -26.000000000000014\n",
      "Обратная матрица:\n",
      " [[ 0.53846154 -0.92307692  0.61538462]\n",
      " [ 0.38461538 -1.23076923  1.15384615]\n",
      " [-0.53846154  1.42307692 -1.11538462]]\n"
     ]
    }
   ],
   "source": [
    "import numpy as np\n",
    "\n",
    "np.random.seed(42)\n",
    "matrix = np.random.randint(1, 11, (3, 3))\n",
    "\n",
    "# Определитель\n",
    "determinant = np.linalg.det(matrix)\n",
    "\n",
    "# Обратная матрица\n",
    "if np.isclose(determinant, 0):\n",
    "    inverse_matrix = \"Матрица вырождена, обратной матрицы не существует.\"\n",
    "else:\n",
    "    inverse_matrix = np.linalg.inv(matrix)\n",
    "\n",
    "\n",
    "print(\"Исходная матрица:\\n\", matrix)\n",
    "print(\"Определитель матрицы:\", determinant)\n",
    "print(\"Обратная матрица:\\n\", inverse_matrix)\n"
   ]
  },
  {
   "cell_type": "markdown",
   "id": "1ff39922-b398-48e4-9132-33e938348290",
   "metadata": {},
   "source": [
    "## Задание 9 практической работы\n",
    "Создайте матрицу NumPy размером 4×4, содержащую случайные целые числа от 1 до 50. Выведите:\n",
    "•\tИсходную матрицу\n",
    "•\tТранспонированную матрицу\n",
    "•\tСлед матрицы (сумму элементов на главной диагонали)\n",
    "Используйте np.trace для нахождения следа.\n"
   ]
  },
  {
   "cell_type": "code",
   "execution_count": 9,
   "id": "5358f16d-1380-47b9-9f45-8dc0e73b3c23",
   "metadata": {},
   "outputs": [
    {
     "name": "stdout",
     "output_type": "stream",
     "text": [
      "Исходная матрица:\n",
      " [[39 29 15 43]\n",
      " [ 8 21 39 19]\n",
      " [23 11 11 24]\n",
      " [36 40 24  3]]\n",
      "Транспонированная матрица:\n",
      " [[39  8 23 36]\n",
      " [29 21 11 40]\n",
      " [15 39 11 24]\n",
      " [43 19 24  3]]\n",
      "След матрицы: 74\n"
     ]
    }
   ],
   "source": [
    "import numpy as np\n",
    "\n",
    "np.random.seed(42)\n",
    "matrix = np.random.randint(1, 51, (4, 4))\n",
    "\n",
    "transposed_matrix = matrix.T\n",
    "\n",
    "trace_value = np.trace(matrix)\n",
    "\n",
    "print(\"Исходная матрица:\\n\", matrix)\n",
    "print(\"Транспонированная матрица:\\n\", transposed_matrix)\n",
    "print(\"След матрицы:\", trace_value)"
   ]
  },
  {
   "cell_type": "markdown",
   "id": "7ee26473-8a8f-4601-9956-a50acf81fa93",
   "metadata": {},
   "source": [
    "## Задание 10 практической работы\n",
    "Решите систему линейных уравнений вида:\n",
    "[2, 3, -1]\n",
    "[4, -1, 2]\n",
    "[-3, 5, 4]\n",
    "Используйте матричное представление Ax = B , где A – матрица коэффициентов, x – вектор неизвестных, B – вектор правой части. \n",
    "Решите систему с помощью np.linalg.solve и выведите результат.\n"
   ]
  },
  {
   "cell_type": "code",
   "execution_count": 11,
   "id": "59ec2649-f4c8-425b-891b-87a5fd39ebb7",
   "metadata": {},
   "outputs": [
    {
     "name": "stdout",
     "output_type": "stream",
     "text": [
      "Решение системы (x, y, z): [1.63963964 0.57657658 0.00900901]\n"
     ]
    }
   ],
   "source": [
    "import numpy as np\n",
    "\n",
    "A = np.array([[2, 3, -1],\n",
    "              [4, -1, 2],\n",
    "              [-3, 5, 4]])\n",
    "\n",
    "B = np.array([5, 6, -2])\n",
    "\n",
    "solution = np.linalg.solve(A, B)\n",
    "\n",
    "print(\"Решение системы (x, y, z):\", solution)\n"
   ]
  },
  {
   "cell_type": "markdown",
   "id": "e00383bf-6a07-4445-8848-efbd50dc6298",
   "metadata": {},
   "source": [
    "## Задание 11 практической работы\n",
    "Каждое задание предусматривает построение системы линейных уравнений. \n",
    "Решите полученную систему уравнений с использованием библиотеки NumPy. \n",
    "Для решения системы используйте метод Крамера и матричный метод. \n",
    "Сравните полученные результаты, с результатами, полученными с помощью np.linalg.solve .\n",
    "### Вариант 6. Распределение воды по трубам. \n",
    "Вода поступает в три резервуара из общей системы труб. \n",
    "В первый резервуар поступает в два раза больше воды, чем во второй, а в третий — на 50 литров больше, чем во второй. \n",
    "Всего в систему поступает 500 литров воды. \n",
    "Сколько воды поступает в каждый резервуар?"
   ]
  },
  {
   "cell_type": "code",
   "execution_count": 19,
   "id": "e4fdf01e-2913-4f58-b776-ceeb601dd3b7",
   "metadata": {},
   "outputs": [
    {
     "name": "stdout",
     "output_type": "stream",
     "text": [
      "Решение методом матриц (np.linalg.solve): [225.  112.5 162.5]\n",
      "Решение методом Крамера: [225.  112.5 162.5]\n"
     ]
    }
   ],
   "source": [
    "import numpy as np\n",
    "\n",
    "# x - первый резервуар, y - второй резервуар, z - третий резервуар\n",
    "\n",
    "A = np.array([[1, -2, 0],\n",
    "              [0, -1, 1],\n",
    "              [1, 1, 1]])\n",
    "\n",
    "B = np.array([0, 50, 500])\n",
    "\n",
    "solution_matrix = np.linalg.solve(A, B)\n",
    "\n",
    "# Метод Крамера\n",
    "det_A = np.linalg.det(A)\n",
    "# Определители для метода Крамера\n",
    "A1 = A.copy()\n",
    "A1[:, 0] = B\n",
    "det_A1 = np.linalg.det(A1)\n",
    "\n",
    "A2 = A.copy()\n",
    "A2[:, 1] = B\n",
    "det_A2 = np.linalg.det(A2)\n",
    "\n",
    "A3 = A.copy()\n",
    "A3[:, 2] = B\n",
    "det_A3 = np.linalg.det(A3)\n",
    "\n",
    "x_kramer = det_A1 / det_A\n",
    "y_kramer = det_A2 / det_A\n",
    "z_kramer = det_A3 / det_A\n",
    "\n",
    "solution_kramer = np.array([x_kramer, y_kramer, z_kramer])\n",
    "\n",
    "\n",
    "print(\"Решение методом матриц (np.linalg.solve):\", solution_matrix)\n",
    "print(\"Решение методом Крамера:\", solution_kramer)\n"
   ]
  }
 ],
 "metadata": {
  "kernelspec": {
   "display_name": "Python [conda env:base] *",
   "language": "python",
   "name": "conda-base-py"
  },
  "language_info": {
   "codemirror_mode": {
    "name": "ipython",
    "version": 3
   },
   "file_extension": ".py",
   "mimetype": "text/x-python",
   "name": "python",
   "nbconvert_exporter": "python",
   "pygments_lexer": "ipython3",
   "version": "3.12.7"
  }
 },
 "nbformat": 4,
 "nbformat_minor": 5
}
