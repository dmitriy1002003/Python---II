{
 "cells": [
  {
   "cell_type": "code",
   "execution_count": 21,
   "id": "95a00661-eaea-43b6-aa82-58b68688f4b6",
   "metadata": {},
   "outputs": [
    {
     "name": "stdout",
     "output_type": "stream",
     "text": [
      "[[ 2  4  6]\n",
      " [ 8 10  0]\n",
      " [ 0  0  0]]\n"
     ]
    }
   ],
   "source": [
    "import numpy as np\n",
    "m = np.matrix('1 2 3; 4 5 6; 7 8 9')\n",
    "n = 2 * m\n",
    "n[n > 10]=0\n",
    "print(n)"
   ]
  },
  {
   "cell_type": "code",
   "execution_count": 43,
   "id": "e4ee5a10-ea64-4b87-ba05-7362b358faca",
   "metadata": {},
   "outputs": [
    {
     "name": "stdout",
     "output_type": "stream",
     "text": [
      "Числа, которые делятся на 5 без остатка: [ 15  75  75 100  30]\n",
      "Обновленный массив: [52 93 -1 72 61 21 83 87 -1 -1 88 -1 24  3 22 53  2 88 -1 38]\n"
     ]
    }
   ],
   "source": [
    "import numpy as np\n",
    " \n",
    "np.random.seed(42)  \n",
    "arr = np.random.randint(1, 101, 20)\n",
    "mask = arr % 5 == 0\n",
    "print (\"Числа, которые делятся на 5 без остатка:\", arr[mask])\n",
    "arr[mask] = -1\n",
    "\n",
    "print (\"Обновленный массив:\", arr)\n"
   ]
  },
  {
   "cell_type": "code",
   "execution_count": 45,
   "id": "d78c7411-b2f0-4b46-b33f-69cff62cdfe6",
   "metadata": {},
   "outputs": [
    {
     "name": "stdout",
     "output_type": "stream",
     "text": [
      "Первый массив: [38 28 14 42  7]\n",
      "Второй массив: [20 38 18 22 10]\n",
      "Объединенный массив:\n",
      " [[38 28 14 42  7]\n",
      " [20 38 18 22 10]]\n",
      "Разделенные массивы:\n",
      " [[38 28 14 42  7]] \n",
      " [[20 38 18 22 10]]\n"
     ]
    }
   ],
   "source": [
    "import numpy as np\n",
    "\n",
    "np.random.seed(42)\n",
    "arr1 = np.random.randint(0, 51, 5)\n",
    "arr2 = np.random.randint(0, 51, 5)\n",
    "\n",
    "merged_array = np.vstack((arr1, arr2))\n",
    "\n",
    "split_array1, split_array2 = np.vsplit(merged_array, 2)\n",
    "\n",
    "print(\"Первый массив:\", arr1)\n",
    "print(\"Второй массив:\", arr2)\n",
    "print(\"Объединенный массив:\\n\", merged_array)\n",
    "print(\"Разделенные массивы:\\n\", split_array1, \"\\n\", split_array2)\n"
   ]
  },
  {
   "cell_type": "code",
   "execution_count": 47,
   "id": "5df27a1f-215f-4394-851b-45fbe237bbcd",
   "metadata": {},
   "outputs": [
    {
     "name": "stdout",
     "output_type": "stream",
     "text": [
      "Сгенерированный массив: [-10 -10 -10  -9  -9  -8  -8  -8  -7  -7  -6  -6  -6  -5  -5  -4  -4  -4\n",
      "  -3  -3  -2  -2  -2  -1  -1   0   0   1   1   1   2   2   3   3   3   4\n",
      "   4   5   5   5   6   6   7   7   7   8   8   9   9  10]\n",
      "Сумма всех элементов: -24\n",
      "Сумма положительных элементов: 116\n",
      "Сумма отрицательных элементов: -140\n"
     ]
    }
   ],
   "source": [
    "import numpy as np\n",
    "\n",
    "arr = np.linspace(-10, 10, 50, dtype=int)\n",
    "\n",
    "total_sum = np.sum(arr)\n",
    "positive_sum = np.sum(arr[arr > 0])\n",
    "negative_sum = np.sum(arr[arr < 0])\n",
    "\n",
    "print(\"Сгенерированный массив:\", arr)\n",
    "print(\"Сумма всех элементов:\", total_sum)\n",
    "print(\"Сумма положительных элементов:\", positive_sum)\n",
    "print(\"Сумма отрицательных элементов:\", negative_sum)"
   ]
  },
  {
   "cell_type": "code",
   "execution_count": 49,
   "id": "b9b8fb2d-841c-4be0-86fb-07e9c81aaaa5",
   "metadata": {},
   "outputs": [
    {
     "name": "stdout",
     "output_type": "stream",
     "text": [
      "Единичная матрица:\n",
      " [[1. 0. 0. 0.]\n",
      " [0. 1. 0. 0.]\n",
      " [0. 0. 1. 0.]\n",
      " [0. 0. 0. 1.]]\n",
      "Диагональная матрица:\n",
      " [[ 5  0  0  0]\n",
      " [ 0 10  0  0]\n",
      " [ 0  0 15  0]\n",
      " [ 0  0  0 20]]\n",
      "Сумма элементов единичной матрицы: 4.0\n",
      "Сумма элементов диагональной матрицы: 50\n",
      "Сумма элементов диагональной матрицы больше.\n"
     ]
    }
   ],
   "source": [
    "import numpy as np\n",
    "\n",
    "m_idnt = np.identity(4)\n",
    "\n",
    "m_diag = np.diag([5, 10, 15, 20])\n",
    "\n",
    "sum_idnt = np.sum(m_idnt)\n",
    "sum_diag = np.sum(m_diag)\n",
    "\n",
    "print(\"Единичная матрица:\\n\", m_idnt)\n",
    "print(\"Диагональная матрица:\\n\", m_diag)\n",
    "print(\"Сумма элементов единичной матрицы:\", sum_idnt)\n",
    "print(\"Сумма элементов диагональной матрицы:\", sum_diag)\n",
    "\n",
    "if sum_idnt > sum_diag:\n",
    "    print(\"Сумма элементов единичной матрицы больше.\")\n",
    "elif sum_idnt < sum_diag:\n",
    "    print(\"Сумма элементов диагональной матрицы больше.\")\n",
    "else:\n",
    "    print(\"Суммы элементов матриц равны.\")\n"
   ]
  },
  {
   "cell_type": "code",
   "execution_count": 3,
   "id": "80b56c3f-0a4f-4fae-b704-abcc0c1022c4",
   "metadata": {},
   "outputs": [
    {
     "name": "stdout",
     "output_type": "stream",
     "text": [
      "Первая матрица:\n",
      " [[ 7 20 15]\n",
      " [11  8  7]\n",
      " [19 11 11]]\n",
      "Вторая матрица:\n",
      " [[ 4  8  3]\n",
      " [ 2 12  6]\n",
      " [ 2  1 12]]\n",
      "Сумма матриц:\n",
      " [[11 28 18]\n",
      " [13 20 13]\n",
      " [21 12 23]]\n",
      "Разность матриц:\n",
      " [[ 3 12 12]\n",
      " [ 9 -4  1]\n",
      " [17 10 -1]]\n",
      "Поэлементное произведение:\n",
      " [[ 28 160  45]\n",
      " [ 22  96  42]\n",
      " [ 38  11 132]]\n"
     ]
    }
   ],
   "source": [
    "import numpy as np\n",
    "\n",
    "np.random.seed(42)\n",
    "arr1 = np.random.randint(1, 21, (3, 3))\n",
    "arr2 = np.random.randint(1, 21, (3, 3))\n",
    "\n",
    "matrix_sum = arr1 + arr2\n",
    "matrix_diff = arr1 - arr2\n",
    "matrix_product = arr1 * arr2\n",
    "\n",
    "print(\"Первая матрица:\\n\", arr1)\n",
    "print(\"Вторая матрица:\\n\", arr2)\n",
    "print(\"Сумма матриц:\\n\", matrix_sum)\n",
    "print(\"Разность матриц:\\n\", matrix_diff)\n",
    "print(\"Поэлементное произведение:\\n\", matrix_product)\n"
   ]
  },
  {
   "cell_type": "code",
   "execution_count": 5,
   "id": "ecd2f162-c4f2-451c-9a3f-517b32318587",
   "metadata": {},
   "outputs": [
    {
     "name": "stdout",
     "output_type": "stream",
     "text": [
      "Первая матрица (2×3):\n",
      " [[ 7  4  8]\n",
      " [ 5  7 10]]\n",
      "Вторая матрица (3×2):\n",
      " [[3 7]\n",
      " [8 5]\n",
      " [4 8]]\n",
      "Результат матричного умножения (2×2):\n",
      " [[ 85 133]\n",
      " [111 150]]\n"
     ]
    }
   ],
   "source": [
    "import numpy as np\n",
    "\n",
    "np.random.seed(42)\n",
    "arr1 = np.random.randint(1, 11, (2, 3))\n",
    "arr2 = np.random.randint(1, 11, (3, 2))\n",
    "\n",
    "matrix_product = arr1 @ arr2\n",
    "\n",
    "print(\"Первая матрица (2×3):\\n\", arr1)\n",
    "print(\"Вторая матрица (3×2):\\n\", arr2)\n",
    "print(\"Результат матричного умножения (2×2):\\n\", matrix_product)\n"
   ]
  },
  {
   "cell_type": "code",
   "execution_count": 7,
   "id": "12b9a7c2-3073-409b-b87b-078bc422f53f",
   "metadata": {},
   "outputs": [
    {
     "name": "stdout",
     "output_type": "stream",
     "text": [
      "Исходная матрица:\n",
      " [[ 7  4  8]\n",
      " [ 5  7 10]\n",
      " [ 3  7  8]]\n",
      "Определитель матрицы: -26.000000000000014\n",
      "Обратная матрица:\n",
      " [[ 0.53846154 -0.92307692  0.61538462]\n",
      " [ 0.38461538 -1.23076923  1.15384615]\n",
      " [-0.53846154  1.42307692 -1.11538462]]\n"
     ]
    }
   ],
   "source": [
    "import numpy as np\n",
    "\n",
    "np.random.seed(42)\n",
    "matrix = np.random.randint(1, 11, (3, 3))\n",
    "\n",
    "# Определитель\n",
    "determinant = np.linalg.det(matrix)\n",
    "\n",
    "# Обратная матрица\n",
    "if np.isclose(determinant, 0):\n",
    "    inverse_matrix = \"Матрица вырождена, обратной матрицы не существует.\"\n",
    "else:\n",
    "    inverse_matrix = np.linalg.inv(matrix)\n",
    "\n",
    "\n",
    "print(\"Исходная матрица:\\n\", matrix)\n",
    "print(\"Определитель матрицы:\", determinant)\n",
    "print(\"Обратная матрица:\\n\", inverse_matrix)\n"
   ]
  },
  {
   "cell_type": "code",
   "execution_count": 9,
   "id": "5358f16d-1380-47b9-9f45-8dc0e73b3c23",
   "metadata": {},
   "outputs": [
    {
     "name": "stdout",
     "output_type": "stream",
     "text": [
      "Исходная матрица:\n",
      " [[39 29 15 43]\n",
      " [ 8 21 39 19]\n",
      " [23 11 11 24]\n",
      " [36 40 24  3]]\n",
      "Транспонированная матрица:\n",
      " [[39  8 23 36]\n",
      " [29 21 11 40]\n",
      " [15 39 11 24]\n",
      " [43 19 24  3]]\n",
      "След матрицы: 74\n"
     ]
    }
   ],
   "source": [
    "import numpy as np\n",
    "\n",
    "np.random.seed(42)\n",
    "matrix = np.random.randint(1, 51, (4, 4))\n",
    "\n",
    "transposed_matrix = matrix.T\n",
    "\n",
    "trace_value = np.trace(matrix)\n",
    "\n",
    "print(\"Исходная матрица:\\n\", matrix)\n",
    "print(\"Транспонированная матрица:\\n\", transposed_matrix)\n",
    "print(\"След матрицы:\", trace_value)"
   ]
  },
  {
   "cell_type": "code",
   "execution_count": 11,
   "id": "59ec2649-f4c8-425b-891b-87a5fd39ebb7",
   "metadata": {},
   "outputs": [
    {
     "name": "stdout",
     "output_type": "stream",
     "text": [
      "Решение системы (x, y, z): [1.63963964 0.57657658 0.00900901]\n"
     ]
    }
   ],
   "source": [
    "import numpy as np\n",
    "\n",
    "A = np.array([[2, 3, -1],\n",
    "              [4, -1, 2],\n",
    "              [-3, 5, 4]])\n",
    "\n",
    "B = np.array([5, 6, -2])\n",
    "\n",
    "solution = np.linalg.solve(A, B)\n",
    "\n",
    "print(\"Решение системы (x, y, z):\", solution)\n"
   ]
  },
  {
   "cell_type": "code",
   "execution_count": 19,
   "id": "e4fdf01e-2913-4f58-b776-ceeb601dd3b7",
   "metadata": {},
   "outputs": [
    {
     "name": "stdout",
     "output_type": "stream",
     "text": [
      "Решение методом матриц (np.linalg.solve): [225.  112.5 162.5]\n",
      "Решение методом Крамера: [225.  112.5 162.5]\n"
     ]
    }
   ],
   "source": [
    "import numpy as np\n",
    "\n",
    "# x - первый резервуар, y - второй резервуар, z - третий резервуар\n",
    "\n",
    "A = np.array([[1, -2, 0],\n",
    "              [0, -1, 1],\n",
    "              [1, 1, 1]])\n",
    "\n",
    "B = np.array([0, 50, 500])\n",
    "\n",
    "solution_matrix = np.linalg.solve(A, B)\n",
    "\n",
    "# Метод Крамера\n",
    "det_A = np.linalg.det(A)\n",
    "# Определители для метода Крамера\n",
    "A1 = A.copy()\n",
    "A1[:, 0] = B\n",
    "det_A1 = np.linalg.det(A1)\n",
    "\n",
    "A2 = A.copy()\n",
    "A2[:, 1] = B\n",
    "det_A2 = np.linalg.det(A2)\n",
    "\n",
    "A3 = A.copy()\n",
    "A3[:, 2] = B\n",
    "det_A3 = np.linalg.det(A3)\n",
    "\n",
    "x_kramer = det_A1 / det_A\n",
    "y_kramer = det_A2 / det_A\n",
    "z_kramer = det_A3 / det_A\n",
    "\n",
    "solution_kramer = np.array([x_kramer, y_kramer, z_kramer])\n",
    "\n",
    "\n",
    "print(\"Решение методом матриц (np.linalg.solve):\", solution_matrix)\n",
    "print(\"Решение методом Крамера:\", solution_kramer)\n"
   ]
  },
  {
   "cell_type": "code",
   "execution_count": 21,
   "id": "a6d186d2-88d1-464d-8d1e-7aa02983c8ce",
   "metadata": {},
   "outputs": [
    {
     "name": "stdout",
     "output_type": "stream",
     "text": [
      "[[ 3  6  9]\n",
      " [12 15 18]]\n"
     ]
    }
   ],
   "source": [
    "import numpy as np\n",
    "\n",
    "A = np.array([[1, 2, 3], \n",
    "              [4, 5, 6]])\n",
    "\n",
    "k = 3  # Число, на которое умножаем\n",
    "\n",
    "result = A * k\n",
    "\n",
    "print(result)\n"
   ]
  },
  {
   "cell_type": "code",
   "execution_count": 23,
   "id": "cd43c555-94a0-43a2-8754-88b2ee0aaab0",
   "metadata": {},
   "outputs": [
    {
     "name": "stdout",
     "output_type": "stream",
     "text": [
      "Сумма через np.add():\n",
      " [[7 7 7]\n",
      " [7 7 7]]\n",
      "Разность через np.subtract():\n",
      " [[-5 -3 -1]\n",
      " [ 1  3  5]]\n"
     ]
    }
   ],
   "source": [
    "import numpy as np\n",
    "\n",
    "A = np.array([[1, 2, 3],\n",
    "              [4, 5, 6]])\n",
    "\n",
    "B = np.array([[6, 5, 4],\n",
    "              [3, 2, 1]])\n",
    "\n",
    "sum_matrix = np.add(A, B)\n",
    "\n",
    "diff_matrix = np.subtract(A, B)\n",
    "\n",
    "print(\"Сумма через np.add():\\n\", sum_matrix)\n",
    "print(\"Разность через np.subtract():\\n\", diff_matrix)\n"
   ]
  },
  {
   "cell_type": "code",
   "execution_count": 25,
   "id": "954cb472-1b8a-4752-8db5-7241fa33727b",
   "metadata": {},
   "outputs": [
    {
     "name": "stdout",
     "output_type": "stream",
     "text": [
      "Решение методом Крамера: [2.7777777777777803, 2.555555555555557, 0.6666666666666672]\n"
     ]
    }
   ],
   "source": [
    "import numpy as np\n",
    "\n",
    "A = np.array([[2, -1, 3], \n",
    "              [1,  1, 1], \n",
    "              [3, -3, 2]])\n",
    "\n",
    "# Вектор правой части\n",
    "B = np.array([5, 6, 2])\n",
    "\n",
    "# Вычисляем определитель\n",
    "det_A = np.linalg.det(A)\n",
    "\n",
    "# Проверяем, существует ли единственное решение\n",
    "if np.isclose(det_A, 0):\n",
    "    print(\"Система не имеет единственного решения\")\n",
    "else:\n",
    "    # Вычисляем детерминанты A_i (заменяя столбцы)\n",
    "    A1, A2, A3 = A.copy(), A.copy(), A.copy()\n",
    "    A1[:, 0], A2[:, 1], A3[:, 2] = B, B, B\n",
    "\n",
    "    det_A1, det_A2, det_A3 = np.linalg.det(A1), np.linalg.det(A2), np.linalg.det(A3)\n",
    "\n",
    "    # Вычисляем значения x, y, z\n",
    "    x = det_A1 / det_A\n",
    "    y = det_A2 / det_A\n",
    "    z = det_A3 / det_A\n",
    "\n",
    "    print(\"Решение методом Крамера:\", [x, y, z])\n"
   ]
  },
  {
   "cell_type": "code",
   "execution_count": 27,
   "id": "8210b6e3-1a04-458f-bd7f-cd89d9c51e8b",
   "metadata": {},
   "outputs": [
    {
     "name": "stdout",
     "output_type": "stream",
     "text": [
      "Решение матричным методом: [2.77777778 2.55555556 0.66666667]\n"
     ]
    }
   ],
   "source": [
    "import numpy as np\n",
    "\n",
    "A = np.array([[2, -1, 3], \n",
    "              [1,  1, 1], \n",
    "              [3, -3, 2]])\n",
    "\n",
    "# Вектор правой части\n",
    "B = np.array([5, 6, 2])\n",
    "\n",
    "# Проверяем, можно ли найти обратную матрицу\n",
    "if np.linalg.det(A) == 0:\n",
    "    print(\"Система не имеет единственного решения\")\n",
    "else:\n",
    "    # Вычисляем обратную матрицу\n",
    "    A_inv = np.linalg.inv(A)\n",
    "\n",
    "    # Находим решение\n",
    "    X = A_inv @ B\n",
    "\n",
    "    print(\"Решение матричным методом:\", X)\n"
   ]
  },
  {
   "cell_type": "code",
   "execution_count": null,
   "id": "a12cae26-fb73-40f3-bb83-6fb67adca3d7",
   "metadata": {},
   "outputs": [],
   "source": []
  }
 ],
 "metadata": {
  "kernelspec": {
   "display_name": "Python [conda env:base] *",
   "language": "python",
   "name": "conda-base-py"
  },
  "language_info": {
   "codemirror_mode": {
    "name": "ipython",
    "version": 3
   },
   "file_extension": ".py",
   "mimetype": "text/x-python",
   "name": "python",
   "nbconvert_exporter": "python",
   "pygments_lexer": "ipython3",
   "version": "3.12.7"
  }
 },
 "nbformat": 4,
 "nbformat_minor": 5
}
