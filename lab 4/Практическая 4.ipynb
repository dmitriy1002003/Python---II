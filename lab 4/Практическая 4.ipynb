{
 "cells": [
  {
   "cell_type": "markdown",
   "id": "d2bd4b42-2cf5-4977-9a3b-edf5a47b2100",
   "metadata": {},
   "source": [
    "# Лабораторная работа №4\n",
    "Вариант 6\n",
    "## Задание 1 практической работы\n",
    "Создание Series из списка"
   ]
  },
  {
   "cell_type": "code",
   "execution_count": 9,
   "id": "0b23c2e9-d7a7-40ea-9fc6-5ac18a766953",
   "metadata": {},
   "outputs": [],
   "source": [
    "import numpy as np\n",
    "import pandas as pd"
   ]
  },
  {
   "cell_type": "code",
   "execution_count": 11,
   "id": "df6193f9-4b3c-44e4-a118-43b4a8d4f83a",
   "metadata": {},
   "outputs": [
    {
     "name": "stdout",
     "output_type": "stream",
     "text": [
      "0    1\n",
      "1    2\n",
      "2    3\n",
      "3    4\n",
      "4    5\n",
      "dtype: int64\n"
     ]
    }
   ],
   "source": [
    "s1 = pd.Series([1, 2, 3, 4, 5])\n",
    "print(s1)"
   ]
  },
  {
   "cell_type": "code",
   "execution_count": 13,
   "id": "63d4a047-5c31-4cf1-a20d-229fc76ea049",
   "metadata": {},
   "outputs": [
    {
     "name": "stdout",
     "output_type": "stream",
     "text": [
      "a    1\n",
      "b    2\n",
      "c    3\n",
      "d    4\n",
      "e    5\n",
      "dtype: int64\n"
     ]
    }
   ],
   "source": [
    "s2 = pd.Series([1, 2, 3, 4, 5], ['a', 'b', 'c', 'd', 'e'])\n",
    "print(s2)"
   ]
  },
  {
   "cell_type": "markdown",
   "id": "bf2e4255-d0a8-4301-bd19-50173445d7ef",
   "metadata": {},
   "source": [
    "## Задание 2 практической работы\n",
    "Получение элемента Series"
   ]
  },
  {
   "cell_type": "code",
   "execution_count": 20,
   "id": "56fbf758-e02b-4f41-a088-6c8a6524292d",
   "metadata": {},
   "outputs": [],
   "source": [
    "s7 = pd.Series([10, 20, 30, 40, 50], ['a', 'b', 'c', 'd',\n",
    "'e'])"
   ]
  },
  {
   "cell_type": "code",
   "execution_count": 22,
   "id": "7cba0a6b-87e5-4ed2-8815-1e2cd7f05bbe",
   "metadata": {},
   "outputs": [
    {
     "data": {
      "text/plain": [
       "a    11\n",
       "b    22\n",
       "c    33\n",
       "d    44\n",
       "e    55\n",
       "dtype: int64"
      ]
     },
     "execution_count": 22,
     "metadata": {},
     "output_type": "execute_result"
    }
   ],
   "source": [
    "s6 + s7"
   ]
  },
  {
   "cell_type": "code",
   "execution_count": 24,
   "id": "b0d51cfc-3035-4f54-97fe-7c5dbcc92093",
   "metadata": {},
   "outputs": [
    {
     "data": {
      "text/plain": [
       "a     3\n",
       "b     6\n",
       "c     9\n",
       "d    12\n",
       "e    15\n",
       "dtype: int64"
      ]
     },
     "execution_count": 24,
     "metadata": {},
     "output_type": "execute_result"
    }
   ],
   "source": [
    "s6 * 3"
   ]
  },
  {
   "cell_type": "markdown",
   "id": "c2088454-30b9-4d36-a6a8-d272bc941844",
   "metadata": {},
   "source": [
    "## Задание 3 практической работы\n",
    "Фильтрация данных с помощью логической индексации"
   ]
  },
  {
   "cell_type": "code",
   "execution_count": 1,
   "id": "16b14064-f09e-4062-b3ab-2996273bddf2",
   "metadata": {},
   "outputs": [
    {
     "name": "stdout",
     "output_type": "stream",
     "text": [
      "b    25\n",
      "d    30\n",
      "e    15\n",
      "dtype: int64\n"
     ]
    }
   ],
   "source": [
    "import pandas as pd\n",
    "s = pd.Series([10, 25, 8, 30, 15], index=['a', 'b', 'c', 'd', 'e'])\n",
    "filtered_s = s[s > 10]\n",
    "print(filtered_s)"
   ]
  },
  {
   "cell_type": "code",
   "execution_count": 30,
   "id": "fe435b82-75ba-41d0-aef2-937508452a86",
   "metadata": {},
   "outputs": [
    {
     "name": "stdout",
     "output_type": "stream",
     "text": [
      "a    False\n",
      "b     True\n",
      "c    False\n",
      "d     True\n",
      "e     True\n",
      "dtype: bool\n"
     ]
    }
   ],
   "source": [
    "print(s > 10)"
   ]
  },
  {
   "cell_type": "code",
   "execution_count": 3,
   "id": "9994d5ad-e193-47a8-9c5f-a3fb71981918",
   "metadata": {},
   "outputs": [
    {
     "name": "stdout",
     "output_type": "stream",
     "text": [
      "a    10\n",
      "b    25\n",
      "d    30\n",
      "e    15\n",
      "dtype: int64\n"
     ]
    }
   ],
   "source": [
    "filtered_s = s[(s >= 10) & (s <= 30)]\n",
    "print(filtered_s)"
   ]
  },
  {
   "cell_type": "code",
   "execution_count": 5,
   "id": "b0ca8118-d235-4dbc-86f2-95a2bd15bac6",
   "metadata": {},
   "outputs": [
    {
     "name": "stdout",
     "output_type": "stream",
     "text": [
      "b    25\n",
      "d    30\n",
      "dtype: int64\n"
     ]
    }
   ],
   "source": [
    "filtered_s = s[s.index.isin(['b', 'd'])]\n",
    "print(filtered_s)"
   ]
  },
  {
   "cell_type": "code",
   "execution_count": 7,
   "id": "dca4a9bd-50b8-4a47-91a2-3af84e9df6b3",
   "metadata": {},
   "outputs": [
    {
     "name": "stdout",
     "output_type": "stream",
     "text": [
      "a    10.0\n",
      "c     8.0\n",
      "d    30.0\n",
      "dtype: float64\n"
     ]
    }
   ],
   "source": [
    "s_with_nan = pd.Series([10, None, 8, 30, None], index=['a', 'b', 'c',\n",
    "'d', 'e'])\n",
    "filtered_s = s_with_nan[s_with_nan.notnull()]\n",
    "print(filtered_s)"
   ]
  },
  {
   "cell_type": "markdown",
   "id": "ab8a200f-be10-49e8-bf8f-426613c0333c",
   "metadata": {},
   "source": [
    "## Задание 4 практической работы\n",
    "Просмотр первых и последних элементов"
   ]
  },
  {
   "cell_type": "code",
   "execution_count": 9,
   "id": "9a8c2aae-3796-4713-83ab-7ab4d0cc50e0",
   "metadata": {},
   "outputs": [
    {
     "name": "stdout",
     "output_type": "stream",
     "text": [
      "Первые 5 элементов Series:\n",
      "0     5\n",
      "1    10\n",
      "2    15\n",
      "3    20\n",
      "4    25\n",
      "dtype: int64\n",
      "\n",
      "Последние 5 элементов Series:\n",
      "5    30\n",
      "6    35\n",
      "7    40\n",
      "8    45\n",
      "9    50\n",
      "dtype: int64\n"
     ]
    }
   ],
   "source": [
    "import pandas as pd\n",
    "\n",
    "data = [5, 10, 15, 20, 25, 30, 35, 40, 45, 50]\n",
    "series = pd.Series(data)\n",
    "\n",
    "print(\"Первые 5 элементов Series:\")\n",
    "print(series.head())\n",
    "\n",
    "print(\"\\nПоследние 5 элементов Series:\")\n",
    "print(series.tail())"
   ]
  },
  {
   "cell_type": "markdown",
   "id": "0714bada-24af-406d-be02-e9537ef04bbb",
   "metadata": {},
   "source": [
    "## Задание 5 практической работы\n",
    "Определение типа данных Series"
   ]
  },
  {
   "cell_type": "code",
   "execution_count": 11,
   "id": "7b68d93e-a9b5-4bae-b911-b1215a89dc5c",
   "metadata": {},
   "outputs": [
    {
     "name": "stdout",
     "output_type": "stream",
     "text": [
      "int64\n"
     ]
    }
   ],
   "source": [
    "import pandas as pd\n",
    "\n",
    "s = pd.Series([10, 20, 30, 40, 50])\n",
    "\n",
    "print(s.dtype)"
   ]
  },
  {
   "cell_type": "code",
   "execution_count": 13,
   "id": "2e43f111-8f2f-4759-b22f-53cc65bcda7b",
   "metadata": {},
   "outputs": [
    {
     "name": "stdout",
     "output_type": "stream",
     "text": [
      "float64\n",
      "object\n",
      "bool\n"
     ]
    }
   ],
   "source": [
    "s1 = pd.Series([1.5, 2.3, 3.7]) # Числа с плавающей запятой\n",
    "s2 = pd.Series([\"apple\", \"banana\", \"cherry\"]) # Строки\n",
    "s3 = pd.Series([True, False, True]) # Булевы значения\n",
    "print(s1.dtype)\n",
    "print(s2.dtype)\n",
    "print(s3.dtype)"
   ]
  },
  {
   "cell_type": "code",
   "execution_count": 15,
   "id": "e8005ab8-81eb-4610-b563-07876e2506c4",
   "metadata": {},
   "outputs": [
    {
     "name": "stdout",
     "output_type": "stream",
     "text": [
      "0    1\n",
      "1    2\n",
      "2    3\n",
      "dtype: int32\n",
      "int32\n"
     ]
    }
   ],
   "source": [
    "s1_int = s1.astype(int)\n",
    "print(s1_int)\n",
    "print(s1_int.dtype)"
   ]
  },
  {
   "cell_type": "code",
   "execution_count": 49,
   "id": "689630cb-0818-43af-a585-ccbad4279279",
   "metadata": {},
   "outputs": [
    {
     "name": "stdout",
     "output_type": "stream",
     "text": [
      "object\n"
     ]
    }
   ],
   "source": [
    "s4 = pd.Series([10, \"apple\", 3.14, True])\n",
    "print(s4.dtype) # object"
   ]
  },
  {
   "cell_type": "markdown",
   "id": "4fe510b9-d4c5-403e-ab5a-e5872111a898",
   "metadata": {},
   "source": [
    "## Задание 6 практической работы\n",
    "Проверка пропущенных значений"
   ]
  },
  {
   "cell_type": "code",
   "execution_count": 17,
   "id": "8149f52f-47b3-466b-bbc9-2662a8659173",
   "metadata": {},
   "outputs": [
    {
     "name": "stdout",
     "output_type": "stream",
     "text": [
      "0    False\n",
      "1     True\n",
      "2    False\n",
      "3     True\n",
      "4    False\n",
      "dtype: bool\n"
     ]
    }
   ],
   "source": [
    "import pandas as pd\n",
    "import numpy as np\n",
    "s = pd.Series([10, np.nan, 30, None, 50])\n",
    "print(s.isnull())"
   ]
  },
  {
   "cell_type": "code",
   "execution_count": 55,
   "id": "9a266b0d-6734-423c-a378-7b0bdfbdcfcf",
   "metadata": {},
   "outputs": [
    {
     "name": "stdout",
     "output_type": "stream",
     "text": [
      "0     True\n",
      "1    False\n",
      "2     True\n",
      "3    False\n",
      "4     True\n",
      "dtype: bool\n"
     ]
    }
   ],
   "source": [
    "print(s.notnull())"
   ]
  },
  {
   "cell_type": "code",
   "execution_count": 57,
   "id": "8cfcabf8-f841-48a5-915e-e9557e3004eb",
   "metadata": {},
   "outputs": [
    {
     "name": "stdout",
     "output_type": "stream",
     "text": [
      "0    10.0\n",
      "2    30.0\n",
      "4    50.0\n",
      "dtype: float64\n"
     ]
    }
   ],
   "source": [
    "filtered_s = s[s.notnull()]\n",
    "print(filtered_s)"
   ]
  },
  {
   "cell_type": "code",
   "execution_count": 59,
   "id": "68399d32-0d4f-4ef2-94d6-d68bf4009f2d",
   "metadata": {},
   "outputs": [
    {
     "name": "stdout",
     "output_type": "stream",
     "text": [
      "1   NaN\n",
      "3   NaN\n",
      "dtype: float64\n"
     ]
    }
   ],
   "source": [
    "missing_values = s[s.isnull()]\n",
    "print(missing_values)"
   ]
  },
  {
   "cell_type": "markdown",
   "id": "82774b5d-a728-45b9-8148-db4e6ae33171",
   "metadata": {},
   "source": [
    "## Задание 7 практической работы\n",
    "Заполнение пропущенных значений"
   ]
  },
  {
   "cell_type": "code",
   "execution_count": 19,
   "id": "3fb06733-2c3d-4a40-948c-31bd97fc6433",
   "metadata": {},
   "outputs": [
    {
     "name": "stdout",
     "output_type": "stream",
     "text": [
      "0    10.0\n",
      "1     0.0\n",
      "2    30.0\n",
      "3     0.0\n",
      "4    50.0\n",
      "dtype: float64\n"
     ]
    }
   ],
   "source": [
    "import pandas as pd\n",
    "import numpy as np\n",
    "s = pd.Series([10, np.nan, 30, None, 50])\n",
    "s_filled = s.fillna(0)\n",
    "print(s_filled)"
   ]
  },
  {
   "cell_type": "code",
   "execution_count": 64,
   "id": "4b2bcf41-ae43-4660-90ef-bdc6532700b6",
   "metadata": {},
   "outputs": [
    {
     "name": "stdout",
     "output_type": "stream",
     "text": [
      "0    10.0\n",
      "1    30.0\n",
      "2    30.0\n",
      "3    30.0\n",
      "4    50.0\n",
      "dtype: float64\n"
     ]
    }
   ],
   "source": [
    "s_filled = s.fillna(s.mean())\n",
    "print(s_filled)"
   ]
  },
  {
   "cell_type": "code",
   "execution_count": 66,
   "id": "5df082e8-441a-48ed-86ae-c84f2729dea6",
   "metadata": {},
   "outputs": [
    {
     "name": "stdout",
     "output_type": "stream",
     "text": [
      "0    10.0\n",
      "2    30.0\n",
      "4    50.0\n",
      "dtype: float64\n"
     ]
    }
   ],
   "source": [
    "s_cleaned = s.dropna()\n",
    "print(s_cleaned)"
   ]
  },
  {
   "cell_type": "markdown",
   "id": "26530c5d-52a8-4ccf-b3cb-d1cb627429ba",
   "metadata": {},
   "source": [
    "## Задание 8 практической работы\n",
    "Арифметические операции с Series"
   ]
  },
  {
   "cell_type": "code",
   "execution_count": 21,
   "id": "6da137f1-9bd4-4aa3-b3be-04d358d6d04f",
   "metadata": {},
   "outputs": [
    {
     "name": "stdout",
     "output_type": "stream",
     "text": [
      "0     20\n",
      "1     40\n",
      "2     60\n",
      "3     80\n",
      "4    100\n",
      "dtype: int64\n"
     ]
    }
   ],
   "source": [
    "import pandas as pd\n",
    "s = pd.Series([10, 20, 30, 40, 50])\n",
    "s_multiplied = s * 2\n",
    "print(s_multiplied)"
   ]
  },
  {
   "cell_type": "code",
   "execution_count": 23,
   "id": "c7bcb177-eb43-419f-8429-fa401d512554",
   "metadata": {},
   "outputs": [
    {
     "name": "stdout",
     "output_type": "stream",
     "text": [
      "a    11\n",
      "b    22\n",
      "c    33\n",
      "d    44\n",
      "e    55\n",
      "dtype: int64\n"
     ]
    }
   ],
   "source": [
    "s1 = pd.Series([1, 2, 3, 4, 5], index=['a', 'b', 'c', 'd', 'e'])\n",
    "s2 = pd.Series([10, 20, 30, 40, 50], index=['a', 'b', 'c', 'd', 'e'])\n",
    "s_sum = s1 + s2\n",
    "print(s_sum)"
   ]
  },
  {
   "cell_type": "markdown",
   "id": "820f31c6-081d-4968-a0f6-d3bd9484b457",
   "metadata": {},
   "source": [
    "## Задание 9 практической работы\n",
    "Применение функции к Series"
   ]
  },
  {
   "cell_type": "code",
   "execution_count": 25,
   "id": "1c8ade15-cff8-438f-a605-c2eb5f5ca75f",
   "metadata": {},
   "outputs": [
    {
     "name": "stdout",
     "output_type": "stream",
     "text": [
      "0     1\n",
      "1     4\n",
      "2     9\n",
      "3    16\n",
      "4    25\n",
      "dtype: int64\n"
     ]
    }
   ],
   "source": [
    "import pandas as pd\n",
    "s = pd.Series([1, 2, 3, 4, 5])\n",
    "s_squared = s.apply(lambda x: x ** 2)\n",
    "print(s_squared)"
   ]
  },
  {
   "cell_type": "code",
   "execution_count": 27,
   "id": "71ff777d-b872-4bd1-b713-f607fde52707",
   "metadata": {},
   "outputs": [
    {
     "name": "stdout",
     "output_type": "stream",
     "text": [
      "0    0.000000\n",
      "1    0.693147\n",
      "2    1.098612\n",
      "3    1.386294\n",
      "4    1.609438\n",
      "dtype: float64\n"
     ]
    }
   ],
   "source": [
    "import numpy as np\n",
    "s_log = s.apply(np.log)\n",
    "print(s_log)"
   ]
  },
  {
   "cell_type": "code",
   "execution_count": 29,
   "id": "fe34233f-aedb-4f08-ba46-4d4a1bf04117",
   "metadata": {},
   "outputs": [
    {
     "name": "stdout",
     "output_type": "stream",
     "text": [
      "0     APPLE\n",
      "1    BANANA\n",
      "2    CHERRY\n",
      "dtype: object\n"
     ]
    }
   ],
   "source": [
    "s_text = pd.Series([\"apple\", \"banana\", \"cherry\"])\n",
    "s_upper = s_text.apply(str.upper)\n",
    "print(s_upper)"
   ]
  },
  {
   "cell_type": "markdown",
   "id": "bb0a8324-5dd8-4582-95f7-83b1e92545d2",
   "metadata": {},
   "source": [
    "## Задание 10 практической работы\n",
    "Основные статистические методы"
   ]
  },
  {
   "cell_type": "code",
   "execution_count": 31,
   "id": "12b9e022-bbf0-4266-8e5d-5e899eda77e4",
   "metadata": {},
   "outputs": [
    {
     "name": "stdout",
     "output_type": "stream",
     "text": [
      "Среднее (mean): 27.5\n",
      "Медиана (median): 27.5\n",
      "Стандартное отклонение (std): 15.138251770487457\n",
      "Минимум (min): 5\n",
      "Максимум (max): 50\n",
      "Сумма (sum): 275\n",
      "\n",
      "Описание Series (describe):\n",
      "count    10.000000\n",
      "mean     27.500000\n",
      "std      15.138252\n",
      "min       5.000000\n",
      "25%      16.250000\n",
      "50%      27.500000\n",
      "75%      38.750000\n",
      "max      50.000000\n",
      "dtype: float64\n"
     ]
    }
   ],
   "source": [
    "import pandas as pd\n",
    "\n",
    "data = [10, 20, 15, 30, 25, 40, 35, 45, 50, 5]\n",
    "series = pd.Series(data)\n",
    "\n",
    "print(\"Среднее (mean):\", series.mean())\n",
    "\n",
    "print(\"Медиана (median):\", series.median())\n",
    "\n",
    "print(\"Стандартное отклонение (std):\", series.std())\n",
    "\n",
    "print(\"Минимум (min):\", series.min())\n",
    "print(\"Максимум (max):\", series.max())\n",
    "\n",
    "print(\"Сумма (sum):\", series.sum())\n",
    "\n",
    "print(\"\\nОписание Series (describe):\")\n",
    "print(series.describe())"
   ]
  },
  {
   "cell_type": "markdown",
   "id": "a86efd1c-b2ae-4f69-9cc5-53945c95bc9b",
   "metadata": {},
   "source": [
    "## Задание 11 практической работы\n",
    "Работа с временными рядами"
   ]
  },
  {
   "cell_type": "code",
   "execution_count": 33,
   "id": "4ab170e2-903c-4083-b68f-964b314863ff",
   "metadata": {},
   "outputs": [
    {
     "name": "stdout",
     "output_type": "stream",
     "text": [
      "2024-03-01    100\n",
      "2024-03-02    105\n",
      "2024-03-03    102\n",
      "2024-03-04     98\n",
      "2024-03-05    110\n",
      "Freq: D, dtype: int64\n"
     ]
    }
   ],
   "source": [
    "import pandas as pd\n",
    "dates = pd.date_range(start='2024-03-01', periods=5, freq='D')\n",
    "s = pd.Series([100, 105, 102, 98, 110], index=dates)\n",
    "print(s)"
   ]
  },
  {
   "cell_type": "code",
   "execution_count": 100,
   "id": "fedcaba4-54cf-48c0-9e31-16465ba51a8e",
   "metadata": {},
   "outputs": [
    {
     "name": "stdout",
     "output_type": "stream",
     "text": [
      "2024-03-01    100\n",
      "2024-03-02    200\n",
      "2024-03-03    150\n",
      "dtype: int64\n"
     ]
    }
   ],
   "source": [
    "s = pd.Series([100, 200, 150], index=['2024-03-01', '2024-03-02',\n",
    "'2024-03-03'])\n",
    "s.index = pd.to_datetime(s.index)\n",
    "print(s)"
   ]
  },
  {
   "cell_type": "markdown",
   "id": "171f9138-9885-4bd1-8d9c-d40fce6ef8eb",
   "metadata": {},
   "source": [
    "## Задание 12 практической работы\n",
    "Проверка уникальности индексов"
   ]
  },
  {
   "cell_type": "code",
   "execution_count": 35,
   "id": "a419c738-44d4-4a09-9de3-ee09c64acd4d",
   "metadata": {},
   "outputs": [
    {
     "name": "stdout",
     "output_type": "stream",
     "text": [
      "Series с уникальными индексами:\n",
      "A    10\n",
      "B    20\n",
      "C    30\n",
      "dtype: int64\n",
      "Уникальность индекса: True\n",
      "----------------------------------------\n",
      "Series с дублирующимися индексами:\n",
      "X    100\n",
      "X    200\n",
      "Y    300\n",
      "dtype: int64\n",
      "Уникальность индекса: False\n"
     ]
    }
   ],
   "source": [
    "import pandas as pd\n",
    "\n",
    "data_unique = [10, 20, 30]\n",
    "index_unique = ['A', 'B', 'C']\n",
    "series_unique = pd.Series(data_unique, index=index_unique)\n",
    "\n",
    "print(\"Series с уникальными индексами:\")\n",
    "print(series_unique)\n",
    "print(\"Уникальность индекса:\", series_unique.index.is_unique)\n",
    "print(\"-\" * 40)\n",
    "\n",
    "data_non_unique = [100, 200, 300]\n",
    "index_non_unique = ['X', 'X', 'Y']\n",
    "series_non_unique = pd.Series(data_non_unique, index=index_non_unique)\n",
    "\n",
    "print(\"Series с дублирующимися индексами:\")\n",
    "print(series_non_unique)\n",
    "print(\"Уникальность индекса:\", series_non_unique.index.is_unique)"
   ]
  },
  {
   "cell_type": "markdown",
   "id": "ef4c8d04-7ed7-4ac9-a56f-2bf2e051b3ac",
   "metadata": {},
   "source": [
    "## Задание 13 практической работы\n",
    "Преобразование строковых дат в DatetimeIndex"
   ]
  },
  {
   "cell_type": "code",
   "execution_count": 105,
   "id": "43d29351-1536-4966-a7f4-8574bab6743f",
   "metadata": {},
   "outputs": [
    {
     "name": "stdout",
     "output_type": "stream",
     "text": [
      "2024-03-01    100\n",
      "2024-03-02    200\n",
      "2024-03-03    150\n",
      "dtype: int64\n"
     ]
    }
   ],
   "source": [
    "s = pd.Series([100, 200, 150], index=['2024-03-01', '2024-03-02',\n",
    "'2024-03-03'])\n",
    "s.index = pd.to_datetime(s.index)\n",
    "print(s)"
   ]
  },
  {
   "cell_type": "markdown",
   "id": "edf658d1-a5fe-49a5-adb5-62143a65e1e1",
   "metadata": {},
   "source": [
    "## Задание 14 практической работы\n",
    "Чтение данных из CSV-файла"
   ]
  },
  {
   "cell_type": "code",
   "execution_count": 37,
   "id": "bbcd6008-d099-4df3-b8c7-0113e6e0f577",
   "metadata": {},
   "outputs": [
    {
     "name": "stdout",
     "output_type": "stream",
     "text": [
      "0    Соня\n",
      "1    Дима\n",
      "2    Миша\n",
      "Name: Имя, dtype: object\n"
     ]
    }
   ],
   "source": [
    "df = pd.read_excel(\"data.xlsx\", sheet_name=\"Лист1\")\n",
    "s = df[\"Имя\"]\n",
    "print(s)"
   ]
  },
  {
   "cell_type": "markdown",
   "id": "7cc4dd31-fc4d-46d2-b852-3ebbccd2bde3",
   "metadata": {},
   "source": [
    "## Задание 15 практической работы\n",
    "Построение графика на основе Series"
   ]
  },
  {
   "cell_type": "code",
   "execution_count": 39,
   "id": "08362a24-e5b9-498c-9824-dbab4a076b2b",
   "metadata": {},
   "outputs": [
    {
     "data": {
      "image/png": "[encoded data removed]",
      "text/plain": [
       "<Figure size 1000x500 with 1 Axes>"
      ]
     },
     "metadata": {},
     "output_type": "display_data"
    },
    {
     "data": {
      "image/png": "[encoded data removed]",
      "text/plain": [
       "<Figure size 1000x500 with 1 Axes>"
      ]
     },
     "metadata": {},
     "output_type": "display_data"
    }
   ],
   "source": [
    "import numpy as np\n",
    "import matplotlib.pyplot as plt\n",
    "dates = pd.date_range(start=\"2024-01-01\", periods=30, freq=\"D\")\n",
    "prices = pd.Series(np.random.randint(90, 110, size=30), index=dates)\n",
    "returns = prices.pct_change() * 100\n",
    "plt.figure(figsize=(10, 5))\n",
    "plt.plot(prices, label=\"Цена акции\", marker=\"o\")\n",
    "plt.ylabel(\"Цена\")\n",
    "plt.xlabel(\"Дата\")\n",
    "plt.title(\"График цены акции\")\n",
    "plt.figure(figsize=(10, 5))\n",
    "plt.bar(returns.index, returns, color=\"red\", alpha=0.7,\n",
    "label=\"Процентное изменение\")\n",
    "plt.axhline(0, color=\"black\", linestyle=\"--\")\n",
    "plt.ylabel(\"Изменение (%)\")\n",
    "plt.xlabel(\"Дата\")\n",
    "plt.title(\"Процентное изменение цены акции\")\n",
    "plt.legend()\n",
    "plt.show()"
   ]
  },
  {
   "cell_type": "code",
   "execution_count": null,
   "id": "0864a0d5-08d1-468b-b69c-7a52132f09bf",
   "metadata": {},
   "outputs": [],
   "source": []
  }
 ],
 "metadata": {
  "kernelspec": {
   "display_name": "Python [conda env:base] *",
   "language": "python",
   "name": "conda-base-py"
  },
  "language_info": {
   "codemirror_mode": {
    "name": "ipython",
    "version": 3
   },
   "file_extension": ".py",
   "mimetype": "text/x-python",
   "name": "python",
   "nbconvert_exporter": "python",
   "pygments_lexer": "ipython3",
   "version": "3.12.7"
  }
 },
 "nbformat": 4,
 "nbformat_minor": 5
}
